{
 "cells": [
  {
   "cell_type": "code",
   "execution_count": 1,
   "id": "eff3923a",
   "metadata": {},
   "outputs": [],
   "source": [
    "import numpy as np\n",
    "import pandas as pd\n",
    "from sklearn.model_selection import train_test_split\n",
    "from sklearn.preprocessing import StandardScaler\n",
    "from sklearn import svm\n",
    "from sklearn.metrics import accuracy_score\n",
    "import warnings\n",
    "\n",
    "warnings.filterwarnings('ignore')\n",
    "pd.set_option('display.max_columns', None)\n",
    "pd.set_option('display.max_rows', None)"
   ]
  },
  {
   "cell_type": "code",
   "execution_count": 2,
   "id": "f6438b90",
   "metadata": {},
   "outputs": [],
   "source": [
    "# Loading the data from csv file to pandas Dataframe\n",
    "Parkinsons_Data = pd.read_csv(\"parkinsons.csv\")"
   ]
  },
  {
   "cell_type": "code",
   "execution_count": 3,
   "id": "f4ac13a9",
   "metadata": {},
   "outputs": [
    {
     "name": "stdout",
     "output_type": "stream",
     "text": [
      "Accuracy Score of the Training Data is:  0.8846153846153846\n",
      "Accuracy Score of the Test Data is:  0.8717948717948718\n"
     ]
    }
   ],
   "source": [
    "# Printing the first five lines(First 5 by Default)\n",
    "# print(Parkinsons_Data.head())\n",
    "\n",
    "# Printing the total number of rows and columns\n",
    "# print(Parkinsons_Data.shape)\n",
    "\n",
    "# Prints some more details\n",
    "# print(Parkinsons_Data.info())\n",
    "\n",
    "# Prints the STATISTICAL DESCRIPTION\n",
    "# print(Parkinsons_Data.describe())\n",
    "\n",
    "# IN OUR CASE STATUS VARIABLE IS OUR TARGET VARIABLE\n",
    "# Distribution of Target Variable(Status)\n",
    "# 1=> People with Parkinson's Disease\n",
    "# 0=> Healthy People\n",
    "# print(Parkinsons_Data['status'].value_counts())\n",
    "\n",
    "\n",
    "# Grouping the data based on the target variable\n",
    "Parkinsons_Data.groupby('status').mean()\n",
    "\n",
    "# Separating features and targets\n",
    "X = Parkinsons_Data.drop(columns=['name' , 'status'], axis=1)\n",
    "Y = Parkinsons_Data['status']\n",
    "\n",
    "# Splitting the Data into Training Data and Test Data\n",
    "X_train, X_test, Y_train, Y_test = train_test_split(X, Y, test_size=0.2 , random_state=2)\n",
    "# print(X.shape, X_train.shape, X_test.shape)\n",
    "# print(X_train,Y_train)\n",
    "\n",
    "# Data Standardization\n",
    "scaler = StandardScaler()\n",
    "# Training our model\n",
    "scaler.fit(X_train)\n",
    "X_train = scaler.transform(X_train)\n",
    "X_test = scaler.transform(X_test)\n",
    "\n",
    "# MODEL TRAINING\n",
    "# SUPPORT VECTOR MACHINE MODEL\n",
    "model = svm.SVC(kernel='linear')\n",
    "# Training the SVM Model\n",
    "model.fit(X_train, Y_train)\n",
    "\n",
    "# EVALUATION\n",
    "# Accuracy score of X_train data\n",
    "X_train_prediction = model.predict(X_train)\n",
    "training_data_accuracy = accuracy_score(Y_train, X_train_prediction)\n",
    "print(\"Accuracy Score of the Training Data is: \",training_data_accuracy)\n",
    "\n",
    "# Accuracy Score of Test Data\n",
    "X_test_prediction = model.predict(X_test)\n",
    "test_data_accuracy = accuracy_score(Y_test, X_test_prediction)\n",
    "print(\"Accuracy Score of the Test Data is: \", test_data_accuracy)\n"
   ]
  },
  {
   "cell_type": "code",
   "execution_count": null,
   "id": "4e6a26c8",
   "metadata": {},
   "outputs": [],
   "source": [
    "# MDVP:Fo(Hz),MDVP:Fhi(Hz),MDVP:Flo(Hz),MDVP:Jitter(%),MDVP:Jitter(Abs),MDVP:RAP,MDVP:PPQ,Jitter:DDP,MDVP:Shimmer,MDVP:Shimmer(dB),Shimmer:APQ3,Shimmer:APQ5,MDVP:APQ,Shimmer:DDA,NHR,HNR,RPDE,DFA,spread1,spread2,D2,PPE\n",
    "report_results = input(\"Enter the report details seperated by comma:\")\n",
    "list1 = report_results.split(',')\n",
    "list2 = map(float,list1)\n",
    "input_data = tuple(list2)\n",
    "\n",
    "\n",
    "# CHANGING INPUT DATA TO NUMPY ARRAY\n",
    "input_data_as_numpy_array = np.asarray(input_data)\n",
    "\n",
    "# RESHAPE THE NUMPY ARRAY\n",
    "input_data_reshaped = input_data_as_numpy_array.reshape(1,-1)\n",
    "\n",
    "# STANDARDISE THE DATA\n",
    "std_data = scaler.transform(input_data_reshaped)\n",
    "\n",
    "prediction = model.predict(std_data)\n",
    "print(\"STATUS:\",prediction)\n",
    "\n",
    "if prediction[0]==0:\n",
    "    print(\"The person is HEALTHY and is not having any symptoms of PARKINSON'S DISEASE\")\n",
    "else:\n",
    "    print(\"The person is having PARKINSON'S DISEASE\")\n",
    "\n"
   ]
  },
  {
   "cell_type": "code",
   "execution_count": null,
   "id": "0a61a0b9",
   "metadata": {},
   "outputs": [],
   "source": []
  }
 ],
 "metadata": {
  "kernelspec": {
   "display_name": "Python 3",
   "language": "python",
   "name": "python3"
  },
  "language_info": {
   "codemirror_mode": {
    "name": "ipython",
    "version": 3
   },
   "file_extension": ".py",
   "mimetype": "text/x-python",
   "name": "python",
   "nbconvert_exporter": "python",
   "pygments_lexer": "ipython3",
   "version": "3.6.8"
  }
 },
 "nbformat": 4,
 "nbformat_minor": 5
}
